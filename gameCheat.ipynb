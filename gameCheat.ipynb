{
 "cells": [
  {
   "cell_type": "markdown",
   "metadata": {},
   "source": [
    "# Python Game Cheat Aimbot"
   ]
  },
  {
   "cell_type": "markdown",
   "metadata": {},
   "source": [
    "The purpose of this game is to cheat in a flash game called Storm the House 3<br>\n",
    "The game can be played here https://www.crazygames.com/game/storm-the-house-3"
   ]
  },
  {
   "cell_type": "markdown",
   "metadata": {},
   "source": [
    "This version only works while playing the game fullscreen"
   ]
  },
  {
   "cell_type": "code",
   "execution_count": null,
   "metadata": {},
   "outputs": [],
   "source": [
    "import pyautogui, time, cv2"
   ]
  },
  {
   "cell_type": "code",
   "execution_count": null,
   "metadata": {},
   "outputs": [],
   "source": [
    "start_time = time.time()\n",
    "duration = 60\n",
    "elapsed = 0\n",
    "proceed = True"
   ]
  },
  {
   "cell_type": "code",
   "execution_count": null,
   "metadata": {},
   "outputs": [],
   "source": [
    "while(elapsed < duration):\n",
    "    elapsed = time.time() - start_time\n",
    "    print(elapsed)\n",
    "    soldier_1 = pyautogui.locateAllOnScreen('soldier_walk.png', grayscale=True, confidence=0.8) # Works for walking soldiers\n",
    "    soldier_2 = pyautogui.locateAllOnScreen('black.png', grayscale=True, confidence=0.8) # Works attacking soldiers\n",
    "    for x in soldier_1:\n",
    "        if x[0] > 86 and x[0] < 1252 and x[1] > 520 and x[1] < 1028: # These are the boundaries we wanna check\n",
    "            if proceed is True:\n",
    "                pyautogui.click(x)\n",
    "            if pyautogui.position().x > x[0]-25 and pyautogui.position().x < x[0]+ 25: # Avoid too much repetition\n",
    "                proceed = False\n",
    "            else:\n",
    "                proceed = True\n",
    "    for x in soldier_2:\n",
    "        if x[0] > 1252 and x[0] < 1488 and x[1] > 520 and x[1] < 1028: # These are the boundaries we wanna check\n",
    "            if proceed is True:\n",
    "                pyautogui.click(x)\n",
    "                pyautogui.click(x)\n",
    "            if pyautogui.position().x > x[0]-25 and pyautogui.position().x < x[0]+ 25:# Avoid too much repetition\n",
    "                proceed = False\n",
    "            else:\n",
    "                proceed = True"
   ]
  }
 ],
 "metadata": {
  "kernelspec": {
   "display_name": "Python 3",
   "language": "python",
   "name": "python3"
  },
  "language_info": {
   "codemirror_mode": {
    "name": "ipython",
    "version": 3
   },
   "file_extension": ".py",
   "mimetype": "text/x-python",
   "name": "python",
   "nbconvert_exporter": "python",
   "pygments_lexer": "ipython3",
   "version": "3.7.8"
  }
 },
 "nbformat": 4,
 "nbformat_minor": 4
}
