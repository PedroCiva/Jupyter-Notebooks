{
 "cells": [
  {
   "cell_type": "markdown",
   "metadata": {},
   "source": [
    "# Python Idle Preventer"
   ]
  },
  {
   "cell_type": "markdown",
   "metadata": {},
   "source": [
    "This program makes it so you never go idle! At least while it is running"
   ]
  },
  {
   "cell_type": "code",
   "execution_count": null,
   "metadata": {},
   "outputs": [],
   "source": [
    "import pyautogui, time"
   ]
  },
  {
   "cell_type": "markdown",
   "metadata": {},
   "source": [
    "Get user preferences"
   ]
  },
  {
   "cell_type": "code",
   "execution_count": null,
   "metadata": {},
   "outputs": [],
   "source": [
    "duration = int(input(\"How long should the program run for (Minutes) ? \"))\n",
    "execute_every_X_seconds = int(input(\"The mouse should move every X seconds: \"))"
   ]
  },
  {
   "cell_type": "markdown",
   "metadata": {},
   "source": [
    "Make it into seconds"
   ]
  },
  {
   "cell_type": "code",
   "execution_count": null,
   "metadata": {},
   "outputs": [],
   "source": [
    "duration = duration * 60"
   ]
  },
  {
   "cell_type": "code",
   "execution_count": null,
   "metadata": {},
   "outputs": [],
   "source": [
    "startTime = time.time()\n",
    "startTime_2 = time.time()"
   ]
  },
  {
   "cell_type": "code",
   "execution_count": null,
   "metadata": {},
   "outputs": [],
   "source": [
    "elapsed = 0"
   ]
  },
  {
   "cell_type": "code",
   "execution_count": null,
   "metadata": {},
   "outputs": [],
   "source": [
    "addPos = False"
   ]
  },
  {
   "cell_type": "code",
   "execution_count": null,
   "metadata": {},
   "outputs": [],
   "source": [
    "print(\"Running ...\")\n",
    "print(\"Move the mouse to stop the program ...\")\n",
    "counter = 0"
   ]
  },
  {
   "cell_type": "markdown",
   "metadata": {},
   "source": [
    "Grab mouse initial position so we can check for user stop"
   ]
  },
  {
   "cell_type": "code",
   "execution_count": null,
   "metadata": {},
   "outputs": [],
   "source": [
    "mouse_initial_pos = pyautogui.position()"
   ]
  },
  {
   "cell_type": "markdown",
   "metadata": {},
   "source": [
    "Start timer"
   ]
  },
  {
   "cell_type": "code",
   "execution_count": null,
   "metadata": {},
   "outputs": [],
   "source": [
    "while(elapsed < duration):\n",
    "    elapsed = time.time() - startTime\n",
    "    # This counter is used for the mouse movement code to execute every X seconds\n",
    "    counter = time.time() - startTime_2\n",
    "    if(counter > execute_every_X_seconds):\n",
    "        # Reset counter and start time\n",
    "        counter = 0\n",
    "        startTime_2 = time.time()\n",
    "        # Move mouse\n",
    "        if(addPos == True):\n",
    "            pyautogui.moveTo(pyautogui.position().x + 20, pyautogui.position().y, duration=0.5)\n",
    "            addPos = False\n",
    "        else:\n",
    "            pyautogui.moveTo(pyautogui.position().x + -20, pyautogui.position().y, duration=0.5)\n",
    "            addPos = True\n",
    "    if (pyautogui.position().x < mouse_initial_pos.x -20 or pyautogui.position().x > mouse_initial_pos.x + 20):\n",
    "        break;"
   ]
  },
  {
   "cell_type": "code",
   "execution_count": null,
   "metadata": {},
   "outputs": [],
   "source": [
    "print(\"Stopping...\")"
   ]
  }
 ],
 "metadata": {
  "kernelspec": {
   "display_name": "Python 3",
   "language": "python",
   "name": "python3"
  },
  "language_info": {
   "codemirror_mode": {
    "name": "ipython",
    "version": 3
   },
   "file_extension": ".py",
   "mimetype": "text/x-python",
   "name": "python",
   "nbconvert_exporter": "python",
   "pygments_lexer": "ipython3",
   "version": "3.7.8"
  }
 },
 "nbformat": 4,
 "nbformat_minor": 4
}
