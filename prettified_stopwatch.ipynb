{
 "cells": [
  {
   "cell_type": "markdown",
   "metadata": {},
   "source": [
    "# Python Stopwatch"
   ]
  },
  {
   "cell_type": "markdown",
   "metadata": {},
   "source": [
    "For manipulating time"
   ]
  },
  {
   "cell_type": "code",
   "execution_count": null,
   "metadata": {},
   "outputs": [],
   "source": [
    "import time"
   ]
  },
  {
   "cell_type": "code",
   "execution_count": null,
   "metadata": {},
   "outputs": [],
   "source": [
    "input('Press ENTER to begin, press ENTER each time you want to register a lap...')\n",
    "print('Starting ...')\n",
    "startTime = time.time()\n",
    "lastTime = startTime\n",
    "lapNum = 1"
   ]
  },
  {
   "cell_type": "markdown",
   "metadata": {},
   "source": [
    "Main loop"
   ]
  },
  {
   "cell_type": "code",
   "execution_count": null,
   "metadata": {},
   "outputs": [],
   "source": [
    "while True:\n",
    "    input() # Register key press\n",
    "    # Update lapTime and total elapsed time, round to 2 digits\n",
    "    lapTime = round(time.time() - lastTime, 2)\n",
    "    totalTime = round(time.time() - startTime, 2)\n",
    "    # Format the 3 strings and use rjust, ljust and center to prettify it. Could also be achieved\n",
    "    # in a less elegant way by printing spaces\n",
    "    info = 'Lap #%s: %s (%s)' % (str(lapNum).rjust(1), str(totalTime).center(2), str(lapTime).rjust(2))\n",
    "    print(info)\n",
    "\n",
    "    #Increment lap number\n",
    "    lapNum += 1\n",
    "    # update the last lap time\n",
    "    lastTime = time.time()"
   ]
  }
 ],
 "metadata": {
  "kernelspec": {
   "display_name": "Python 3",
   "language": "python",
   "name": "python3"
  },
  "language_info": {
   "codemirror_mode": {
    "name": "ipython",
    "version": 3
   },
   "file_extension": ".py",
   "mimetype": "text/x-python",
   "name": "python",
   "nbconvert_exporter": "python",
   "pygments_lexer": "ipython3",
   "version": "3.7.8"
  }
 },
 "nbformat": 4,
 "nbformat_minor": 4
}
